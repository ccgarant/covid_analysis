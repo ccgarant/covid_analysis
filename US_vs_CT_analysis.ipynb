{
 "cells": [
  {
   "cell_type": "markdown",
   "id": "12a81f37",
   "metadata": {},
   "source": [
    "# US vs Connecticut (CT) Analysis\n",
    "Basic data analysis on US National vs CT State covid statistics\n",
    "\n",
    "By: Christophe Garant"
   ]
  },
  {
   "cell_type": "markdown",
   "id": "c00e2c69",
   "metadata": {},
   "source": [
    "## Data Sources \n",
    "\n",
    "Generally, Johns Hopkins CSSE has reliable, cleaned and aggregated data since early in the COVID-19 outbreak.\n",
    "\n",
    "[COVID-19 Data Repository by the Center for Systems Science and Engineering (CSSE) at Johns Hopkins University](https://github.com/CSSEGISandData/COVID-19)\n",
    "\n",
    "Specifically, this notebook will be reviewing US data in timeseries.\n",
    "\n",
    "[Time Series Covid19 Deaths US](csse_covid_19_data/csse_covid_19_time_series/time_series_covid19_deaths_US.csv)"
   ]
  },
  {
   "cell_type": "markdown",
   "id": "73513272",
   "metadata": {},
   "source": [
    "## Setup\n",
    "- Make sure you are in the directory (folder) of choice for analysis (github will be cloned here)\n",
    "- `pip install gitpython` (see [gitpython](https://github.com/gitpython-developers/GitPython))"
   ]
  },
  {
   "cell_type": "markdown",
   "id": "e1d38600",
   "metadata": {},
   "source": [
    "#### Imports"
   ]
  },
  {
   "cell_type": "code",
   "execution_count": 32,
   "id": "f805c5e0",
   "metadata": {},
   "outputs": [],
   "source": [
    "#imports\n",
    "import pandas as pd\n",
    "import numpy as np\n",
    "import sys, os\n",
    "from git import Repo #pip install gitpython if you don't have it (I had to do this) "
   ]
  },
  {
   "cell_type": "code",
   "execution_count": 33,
   "id": "bf483f43",
   "metadata": {},
   "outputs": [
    {
     "name": "stdout",
     "output_type": "stream",
     "text": [
      "/Users/christophegarant/Documents/GitHub/covid_analysis\n",
      "https://github.com/CSSEGISandData/COVID-19/tree/master/csse_covid_19_data/csse_covid_19_daily_reports_us\n"
     ]
    }
   ],
   "source": [
    "#folder setup\n",
    "path = os.getcwd()  #reads your current working directory\n",
    "clone = 'https://github.com/CSSEGISandData/COVID-19/tree/master/csse_covid_19_data/csse_covid_19_daily_reports_us'\n",
    "\n",
    "print(path)\n",
    "print(clone)"
   ]
  },
  {
   "cell_type": "markdown",
   "id": "183fbe41",
   "metadata": {},
   "source": [
    "#### Read Data\n",
    "Read in data from JH CSSE Github to have up-to-date data to analyze."
   ]
  },
  {
   "cell_type": "code",
   "execution_count": 24,
   "id": "c94f7a87",
   "metadata": {},
   "outputs": [
    {
     "name": "stdout",
     "output_type": "stream",
     "text": [
      "https://github.com/CSSEGISandData/COVID-19/tree/master/csse_covid_19_data/csse_covid_19_daily_reports_us\n"
     ]
    }
   ],
   "source": [
    "#read in url data\n",
    "url = 'https://github.com/CSSEGISandData/COVID-19/tree/master/csse_covid_19_data/csse_covid_19_daily_reports_us'\n",
    "print(url) #test print to see wrapped link"
   ]
  },
  {
   "cell_type": "code",
   "execution_count": null,
   "id": "c238877d",
   "metadata": {},
   "outputs": [],
   "source": []
  }
 ],
 "metadata": {
  "kernelspec": {
   "display_name": "Python 3 (ipykernel)",
   "language": "python",
   "name": "python3"
  },
  "language_info": {
   "codemirror_mode": {
    "name": "ipython",
    "version": 3
   },
   "file_extension": ".py",
   "mimetype": "text/x-python",
   "name": "python",
   "nbconvert_exporter": "python",
   "pygments_lexer": "ipython3",
   "version": "3.8.11"
  }
 },
 "nbformat": 4,
 "nbformat_minor": 5
}
